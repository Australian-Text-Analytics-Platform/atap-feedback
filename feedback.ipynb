{
 "cells": [
  {
   "cell_type": "code",
   "execution_count": null,
   "id": "f55b2c7af515008a",
   "metadata": {},
   "outputs": [],
   "source": [
    "import os\n",
    "from atap_feedback import FeedbackPane\n",
    "\n",
    "os.environ[\"GITHUB_TOKEN\"] = \"\"\n",
    "FeedbackPane(\"Test project\")"
   ]
  }
 ],
 "metadata": {
  "kernelspec": {
   "display_name": "feedback",
   "language": "python",
   "name": "feedback"
  },
  "language_info": {
   "codemirror_mode": {
    "name": "ipython",
    "version": 3
   },
   "file_extension": ".py",
   "mimetype": "text/x-python",
   "name": "python",
   "nbconvert_exporter": "python",
   "pygments_lexer": "ipython3",
   "version": "3.11.8"
  }
 },
 "nbformat": 4,
 "nbformat_minor": 5
}
